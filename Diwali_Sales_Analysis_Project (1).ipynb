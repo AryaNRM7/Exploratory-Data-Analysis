{
 "cells": [
  {
   "cell_type": "code",
   "execution_count": 1,
   "metadata": {},
   "outputs": [],
   "source": [
    "import numpy as np \n",
    "import pandas as pd \n",
    "import matplotlib.pyplot as plt # visualizing data\n",
    "%matplotlib inline\n",
    "import seaborn as sns"
   ]
  },
  {
   "cell_type": "code",
   "execution_count": 5,
   "metadata": {},
   "outputs": [
    {
     "data": {
      "text/plain": [
       "(11251, 15)"
      ]
     },
     "execution_count": 5,
     "metadata": {},
     "output_type": "execute_result"
    }
   ],
   "source": [
    "#importing and reading the file\n",
    "df = pd.read_csv('Diwali Sales Data.csv', encoding = 'unicode_escape')"
   ]
  },
  {
   "cell_type": "code",
   "execution_count": 6,
   "metadata": {},
   "outputs": [
    {
     "data": {
      "text/plain": [
       "(11251, 15)"
      ]
     },
     "execution_count": 6,
     "metadata": {},
     "output_type": "execute_result"
    }
   ],
   "source": [
    "df.shape"
   ]
  },
  {
   "cell_type": "code",
   "execution_count": 7,
   "metadata": {
    "scrolled": true
   },
   "outputs": [
    {
     "data": {
      "text/html": [
       "<div>\n",
       "<style scoped>\n",
       "    .dataframe tbody tr th:only-of-type {\n",
       "        vertical-align: middle;\n",
       "    }\n",
       "\n",
       "    .dataframe tbody tr th {\n",
       "        vertical-align: top;\n",
       "    }\n",
       "\n",
       "    .dataframe thead th {\n",
       "        text-align: right;\n",
       "    }\n",
       "</style>\n",
       "<table border=\"1\" class=\"dataframe\">\n",
       "  <thead>\n",
       "    <tr style=\"text-align: right;\">\n",
       "      <th></th>\n",
       "      <th>User_ID</th>\n",
       "      <th>Cust_name</th>\n",
       "      <th>Product_ID</th>\n",
       "      <th>Gender</th>\n",
       "      <th>Age Group</th>\n",
       "      <th>Age</th>\n",
       "      <th>Marital_Status</th>\n",
       "      <th>State</th>\n",
       "      <th>Zone</th>\n",
       "      <th>Occupation</th>\n",
       "      <th>Product_Category</th>\n",
       "      <th>Orders</th>\n",
       "      <th>Amount</th>\n",
       "      <th>Status</th>\n",
       "      <th>unnamed1</th>\n",
       "    </tr>\n",
       "  </thead>\n",
       "  <tbody>\n",
       "    <tr>\n",
       "      <th>0</th>\n",
       "      <td>1002903</td>\n",
       "      <td>Sanskriti</td>\n",
       "      <td>P00125942</td>\n",
       "      <td>F</td>\n",
       "      <td>26-35</td>\n",
       "      <td>28</td>\n",
       "      <td>0</td>\n",
       "      <td>Maharashtra</td>\n",
       "      <td>Western</td>\n",
       "      <td>Healthcare</td>\n",
       "      <td>Auto</td>\n",
       "      <td>1</td>\n",
       "      <td>23952.0</td>\n",
       "      <td>NaN</td>\n",
       "      <td>NaN</td>\n",
       "    </tr>\n",
       "    <tr>\n",
       "      <th>1</th>\n",
       "      <td>1000732</td>\n",
       "      <td>Kartik</td>\n",
       "      <td>P00110942</td>\n",
       "      <td>F</td>\n",
       "      <td>26-35</td>\n",
       "      <td>35</td>\n",
       "      <td>1</td>\n",
       "      <td>Andhra Pradesh</td>\n",
       "      <td>Southern</td>\n",
       "      <td>Govt</td>\n",
       "      <td>Auto</td>\n",
       "      <td>3</td>\n",
       "      <td>23934.0</td>\n",
       "      <td>NaN</td>\n",
       "      <td>NaN</td>\n",
       "    </tr>\n",
       "    <tr>\n",
       "      <th>2</th>\n",
       "      <td>1001990</td>\n",
       "      <td>Bindu</td>\n",
       "      <td>P00118542</td>\n",
       "      <td>F</td>\n",
       "      <td>26-35</td>\n",
       "      <td>35</td>\n",
       "      <td>1</td>\n",
       "      <td>Uttar Pradesh</td>\n",
       "      <td>Central</td>\n",
       "      <td>Automobile</td>\n",
       "      <td>Auto</td>\n",
       "      <td>3</td>\n",
       "      <td>23924.0</td>\n",
       "      <td>NaN</td>\n",
       "      <td>NaN</td>\n",
       "    </tr>\n",
       "    <tr>\n",
       "      <th>3</th>\n",
       "      <td>1001425</td>\n",
       "      <td>Sudevi</td>\n",
       "      <td>P00237842</td>\n",
       "      <td>M</td>\n",
       "      <td>0-17</td>\n",
       "      <td>16</td>\n",
       "      <td>0</td>\n",
       "      <td>Karnataka</td>\n",
       "      <td>Southern</td>\n",
       "      <td>Construction</td>\n",
       "      <td>Auto</td>\n",
       "      <td>2</td>\n",
       "      <td>23912.0</td>\n",
       "      <td>NaN</td>\n",
       "      <td>NaN</td>\n",
       "    </tr>\n",
       "    <tr>\n",
       "      <th>4</th>\n",
       "      <td>1000588</td>\n",
       "      <td>Joni</td>\n",
       "      <td>P00057942</td>\n",
       "      <td>M</td>\n",
       "      <td>26-35</td>\n",
       "      <td>28</td>\n",
       "      <td>1</td>\n",
       "      <td>Gujarat</td>\n",
       "      <td>Western</td>\n",
       "      <td>Food Processing</td>\n",
       "      <td>Auto</td>\n",
       "      <td>2</td>\n",
       "      <td>23877.0</td>\n",
       "      <td>NaN</td>\n",
       "      <td>NaN</td>\n",
       "    </tr>\n",
       "  </tbody>\n",
       "</table>\n",
       "</div>"
      ],
      "text/plain": [
       "   User_ID  Cust_name Product_ID Gender Age Group  Age  Marital_Status  \\\n",
       "0  1002903  Sanskriti  P00125942      F     26-35   28               0   \n",
       "1  1000732     Kartik  P00110942      F     26-35   35               1   \n",
       "2  1001990      Bindu  P00118542      F     26-35   35               1   \n",
       "3  1001425     Sudevi  P00237842      M      0-17   16               0   \n",
       "4  1000588       Joni  P00057942      M     26-35   28               1   \n",
       "\n",
       "            State      Zone       Occupation Product_Category  Orders  \\\n",
       "0     Maharashtra   Western       Healthcare             Auto       1   \n",
       "1  Andhra Pradesh  Southern             Govt             Auto       3   \n",
       "2   Uttar Pradesh   Central       Automobile             Auto       3   \n",
       "3       Karnataka  Southern     Construction             Auto       2   \n",
       "4         Gujarat   Western  Food Processing             Auto       2   \n",
       "\n",
       "    Amount  Status  unnamed1  \n",
       "0  23952.0     NaN       NaN  \n",
       "1  23934.0     NaN       NaN  \n",
       "2  23924.0     NaN       NaN  \n",
       "3  23912.0     NaN       NaN  \n",
       "4  23877.0     NaN       NaN  "
      ]
     },
     "execution_count": 7,
     "metadata": {},
     "output_type": "execute_result"
    }
   ],
   "source": [
    "df.head()"
   ]
  },
  {
   "cell_type": "code",
   "execution_count": 21,
   "metadata": {
    "scrolled": true
   },
   "outputs": [
    {
     "data": {
      "text/plain": [
       "<bound method DataFrame.info of        User_ID    Cust_name Product_ID Gender Age Group  Age  Marital_Status  \\\n",
       "0      1002903    Sanskriti  P00125942      F     26-35   28               0   \n",
       "1      1000732       Kartik  P00110942      F     26-35   35               1   \n",
       "2      1001990        Bindu  P00118542      F     26-35   35               1   \n",
       "3      1001425       Sudevi  P00237842      M      0-17   16               0   \n",
       "4      1000588         Joni  P00057942      M     26-35   28               1   \n",
       "5      1000588         Joni  P00057942      M     26-35   28               1   \n",
       "6      1001132         Balk  P00018042      F     18-25   25               1   \n",
       "7      1002092     Shivangi  P00273442      F       55+   61               0   \n",
       "8      1003224       Kushal  P00205642      M     26-35   35               0   \n",
       "9      1003650        Ginny  P00031142      F     26-35   26               1   \n",
       "10     1003829     Harshita  P00200842      M     26-35   34               0   \n",
       "11     1000214     Kargatis  P00119142      F     18-25   20               0   \n",
       "12     1004035       Elijah  P00080342      F     18-25   20               1   \n",
       "13     1001680      Vasudev  P00324942      M     26-35   26               1   \n",
       "14     1003858         Cano  P00293742      M     46-50   46               1   \n",
       "15     1000813       Lauren  P00289942      F     18-25   24               0   \n",
       "16     1005447          Amy  P00275642      F     46-50   48               1   \n",
       "17     1001193         Mick  P00004842      F     26-35   29               0   \n",
       "18     1001883      Praneet  P00029842      M     51-55   54               1   \n",
       "19     1001883      Praneet  P00029842      M     51-55   54               1   \n",
       "20     1000113        Ellis  P00180642      F     18-25   19               1   \n",
       "21     1000416  Hrisheekesh  P00181842      F     46-50   46               1   \n",
       "22     1005256        Grant  P00101742      F     26-35   30               0   \n",
       "23     1001505     Gilcrest  P00271842      F     51-55   53               0   \n",
       "24     1000900       Skaria  P00317842      M       55+   83               0   \n",
       "25     1005908         Eric  P00282642      F     26-35   33               0   \n",
       "26     1001101       Gibson  P00234742      F     36-45   40               0   \n",
       "27     1004736       Mahima  P00058042      F     18-25   25               1   \n",
       "28     1004037      Etezadi  P00190542      M     51-55   54               1   \n",
       "29     1002340        James  P00119642      F     36-45   39               1   \n",
       "...        ...          ...        ...    ...       ...  ...             ...   \n",
       "11221  1005684         Mick  P00016842      F     18-25   23               0   \n",
       "11222  1002004        Sheri  P00246142      F     46-50   48               0   \n",
       "11223  1001542         Buch  P00113642      F     18-25   20               1   \n",
       "11224  1004378      Kritika  P00274042      F     18-25   18               0   \n",
       "11225  1005971        Rahul  P00307142      F     36-45   42               1   \n",
       "11226  1001032   Geetanjali  P00240842      F     51-55   54               1   \n",
       "11227  1004867      Chandni  P00173042      F     26-35   35               0   \n",
       "11228  1001392       Andrew  P00090942      F     46-50   49               0   \n",
       "11229  1000188        Khloe  P00080342      F       55+   80               0   \n",
       "11230  1005258       Aromal  P00220442      F     36-45   37               1   \n",
       "11231  1003557       Craven  P00046142      F     18-25   20               0   \n",
       "11232  1001360       Darrin  P00112642      F     26-35   27               1   \n",
       "11233  1002106         Luke  P00164342      M     18-25   19               0   \n",
       "11234  1001628      Sandeep  P00226342      F     18-25   21               0   \n",
       "11235  1001248      Calhoun  P00255842      M     36-45   39               0   \n",
       "11236  1002168    Hightower  P00145842      M      0-17   17               1   \n",
       "11237  1000687        Neola  P00181542      M     26-35   29               1   \n",
       "11238  1002718     Abhishek  P00003442      M     26-35   28               0   \n",
       "11239  1000802       Marley  P00245642      F     26-35   33               0   \n",
       "11240  1001425       Sudevi  P00044742      F      0-17   12               0   \n",
       "11241  1003032     Matthias  P00058042      F     26-35   33               0   \n",
       "11242  1004344   Hildebrand  P00185442      F     26-35   27               1   \n",
       "11243  1005446      Sheetal  P00297742      M     51-55   53               0   \n",
       "11244  1005446      Sheetal  P00297742      M     51-55   53               0   \n",
       "11245  1004140    Bertelson  P00057442      F     26-35   31               1   \n",
       "11246  1000695      Manning  P00296942      M     18-25   19               1   \n",
       "11247  1004089  Reichenbach  P00171342      M     26-35   33               0   \n",
       "11248  1001209        Oshin  P00201342      F     36-45   40               0   \n",
       "11249  1004023       Noonan  P00059442      M     36-45   37               0   \n",
       "11250  1002744      Brumley  P00281742      F     18-25   19               0   \n",
       "\n",
       "                  State      Zone       Occupation    Product_Category  \\\n",
       "0           Maharashtra   Western       Healthcare                Auto   \n",
       "1        Andhra Pradesh  Southern             Govt                Auto   \n",
       "2         Uttar Pradesh   Central       Automobile                Auto   \n",
       "3             Karnataka  Southern     Construction                Auto   \n",
       "4               Gujarat   Western  Food Processing                Auto   \n",
       "5      Himachal Pradesh  Northern  Food Processing                Auto   \n",
       "6         Uttar Pradesh   Central           Lawyer                Auto   \n",
       "7           Maharashtra   Western        IT Sector                Auto   \n",
       "8         Uttar Pradesh   Central             Govt                Auto   \n",
       "9        Andhra Pradesh  Southern            Media                Auto   \n",
       "10                Delhi   Central          Banking                Auto   \n",
       "11       Andhra Pradesh  Southern           Retail                Auto   \n",
       "12       Andhra Pradesh  Southern        IT Sector                Auto   \n",
       "13       Andhra Pradesh  Southern       Automobile                Auto   \n",
       "14       Madhya Pradesh   Central      Hospitality                Auto   \n",
       "15       Andhra Pradesh  Southern             Govt                Auto   \n",
       "16       Andhra Pradesh  Southern        IT Sector                Auto   \n",
       "17       Andhra Pradesh  Southern         Aviation                Auto   \n",
       "18        Uttar Pradesh   Central      Hospitality                Auto   \n",
       "19        Uttar Pradesh   Central      Hospitality                Auto   \n",
       "20       Andhra Pradesh  Southern             Govt                Auto   \n",
       "21        Uttar Pradesh   Central          Banking                Auto   \n",
       "22       Andhra Pradesh  Southern        IT Sector                Auto   \n",
       "23        Uttar Pradesh   Central       Automobile                Auto   \n",
       "24            Karnataka  Southern       Automobile                Auto   \n",
       "25       Andhra Pradesh  Southern        IT Sector                Auto   \n",
       "26        Uttar Pradesh   Central          Banking                Auto   \n",
       "27       Andhra Pradesh  Southern          Banking                Auto   \n",
       "28       Andhra Pradesh  Southern             Govt  Hand & Power Tools   \n",
       "29       Andhra Pradesh  Southern         Aviation                Auto   \n",
       "...                 ...       ...              ...                 ...   \n",
       "11221             Delhi   Central      Agriculture              Office   \n",
       "11222             Delhi   Central            Media              Office   \n",
       "11223       Maharashtra   Western         Aviation              Office   \n",
       "11224             Delhi   Central         Aviation              Office   \n",
       "11225             Delhi   Central      Agriculture              Office   \n",
       "11226             Delhi   Central           Lawyer              Office   \n",
       "11227             Delhi   Central       Healthcare              Office   \n",
       "11228     Uttar Pradesh   Central         Aviation              Office   \n",
       "11229             Delhi   Central       Healthcare              Office   \n",
       "11230             Delhi   Central          Banking              Office   \n",
       "11231             Delhi   Central       Healthcare              Office   \n",
       "11232             Delhi   Central         Chemical              Office   \n",
       "11233       Maharashtra   Western      Agriculture              Office   \n",
       "11234             Delhi   Central         Aviation              Office   \n",
       "11235    Andhra Pradesh  Southern       Healthcare              Office   \n",
       "11236  Himachal Pradesh  Northern      Agriculture              Office   \n",
       "11237           Haryana  Northern            Media              Office   \n",
       "11238         Karnataka  Southern        IT Sector              Office   \n",
       "11239             Delhi   Central       Healthcare              Office   \n",
       "11240             Delhi   Central        IT Sector          Veterinary   \n",
       "11241             Delhi   Central      Hospitality              Office   \n",
       "11242             Delhi   Central       Healthcare              Office   \n",
       "11243           Gujarat   Western       Healthcare              Office   \n",
       "11244    Madhya Pradesh   Central       Healthcare              Office   \n",
       "11245             Delhi   Central         Aviation              Office   \n",
       "11246       Maharashtra   Western         Chemical              Office   \n",
       "11247           Haryana  Northern       Healthcare          Veterinary   \n",
       "11248    Madhya Pradesh   Central          Textile              Office   \n",
       "11249         Karnataka  Southern      Agriculture              Office   \n",
       "11250       Maharashtra   Western       Healthcare              Office   \n",
       "\n",
       "       Orders    Amount  Status  unnamed1  \n",
       "0           1  23952.00     NaN       NaN  \n",
       "1           3  23934.00     NaN       NaN  \n",
       "2           3  23924.00     NaN       NaN  \n",
       "3           2  23912.00     NaN       NaN  \n",
       "4           2  23877.00     NaN       NaN  \n",
       "5           1  23877.00     NaN       NaN  \n",
       "6           4  23841.00     NaN       NaN  \n",
       "7           1       NaN     NaN       NaN  \n",
       "8           2  23809.00     NaN       NaN  \n",
       "9           4  23799.99     NaN       NaN  \n",
       "10          1  23770.00     NaN       NaN  \n",
       "11          2  23752.00     NaN       NaN  \n",
       "12          2  23730.00     NaN       NaN  \n",
       "13          4  23718.00     NaN       NaN  \n",
       "14          3       NaN     NaN       NaN  \n",
       "15          2  23664.00     NaN       NaN  \n",
       "16          3       NaN     NaN       NaN  \n",
       "17          1  23619.00     NaN       NaN  \n",
       "18          1  23568.00     NaN       NaN  \n",
       "19          1  23568.00     NaN       NaN  \n",
       "20          4  23546.00     NaN       NaN  \n",
       "21          2  23525.00     NaN       NaN  \n",
       "22          1  23518.00     NaN       NaN  \n",
       "23          2  23515.00     NaN       NaN  \n",
       "24          3  23513.00     NaN       NaN  \n",
       "25          3  23462.00     NaN       NaN  \n",
       "26          3  23456.00     NaN       NaN  \n",
       "27          4  23451.00     NaN       NaN  \n",
       "28          2  23434.00     NaN       NaN  \n",
       "29          3  23389.00     NaN       NaN  \n",
       "...       ...       ...     ...       ...  \n",
       "11221       1    575.00     NaN       NaN  \n",
       "11222       3    575.00     NaN       NaN  \n",
       "11223       4    574.00     NaN       NaN  \n",
       "11224       2    572.00     NaN       NaN  \n",
       "11225       1    572.00     NaN       NaN  \n",
       "11226       3    570.00     NaN       NaN  \n",
       "11227       1    569.00     NaN       NaN  \n",
       "11228       1    569.00     NaN       NaN  \n",
       "11229       3    568.00     NaN       NaN  \n",
       "11230       3    567.00     NaN       NaN  \n",
       "11231       3    563.00     NaN       NaN  \n",
       "11232       3    563.00     NaN       NaN  \n",
       "11233       1    563.00     NaN       NaN  \n",
       "11234       3    562.00     NaN       NaN  \n",
       "11235       3    560.00     NaN       NaN  \n",
       "11236       4    560.00     NaN       NaN  \n",
       "11237       2    557.00     NaN       NaN  \n",
       "11238       1    555.00     NaN       NaN  \n",
       "11239       1    407.00     NaN       NaN  \n",
       "11240       1    396.00     NaN       NaN  \n",
       "11241       3    384.00     NaN       NaN  \n",
       "11242       2    382.00     NaN       NaN  \n",
       "11243       1    382.00     NaN       NaN  \n",
       "11244       2    382.00     NaN       NaN  \n",
       "11245       2    381.00     NaN       NaN  \n",
       "11246       4    370.00     NaN       NaN  \n",
       "11247       3    367.00     NaN       NaN  \n",
       "11248       4    213.00     NaN       NaN  \n",
       "11249       3    206.00     NaN       NaN  \n",
       "11250       3    188.00     NaN       NaN  \n",
       "\n",
       "[11251 rows x 15 columns]>"
      ]
     },
     "execution_count": 21,
     "metadata": {},
     "output_type": "execute_result"
    }
   ],
   "source": [
    "df.info"
   ]
  },
  {
   "cell_type": "code",
   "execution_count": 8,
   "metadata": {},
   "outputs": [
    {
     "data": {
      "text/html": [
       "<div>\n",
       "<style scoped>\n",
       "    .dataframe tbody tr th:only-of-type {\n",
       "        vertical-align: middle;\n",
       "    }\n",
       "\n",
       "    .dataframe tbody tr th {\n",
       "        vertical-align: top;\n",
       "    }\n",
       "\n",
       "    .dataframe thead th {\n",
       "        text-align: right;\n",
       "    }\n",
       "</style>\n",
       "<table border=\"1\" class=\"dataframe\">\n",
       "  <thead>\n",
       "    <tr style=\"text-align: right;\">\n",
       "      <th></th>\n",
       "      <th>User_ID</th>\n",
       "      <th>Cust_name</th>\n",
       "      <th>Product_ID</th>\n",
       "      <th>Gender</th>\n",
       "      <th>Age Group</th>\n",
       "      <th>Age</th>\n",
       "      <th>Marital_Status</th>\n",
       "      <th>State</th>\n",
       "      <th>Zone</th>\n",
       "      <th>Occupation</th>\n",
       "      <th>Product_Category</th>\n",
       "      <th>Orders</th>\n",
       "      <th>Amount</th>\n",
       "      <th>Status</th>\n",
       "      <th>unnamed1</th>\n",
       "    </tr>\n",
       "  </thead>\n",
       "  <tbody>\n",
       "    <tr>\n",
       "      <th>11246</th>\n",
       "      <td>1000695</td>\n",
       "      <td>Manning</td>\n",
       "      <td>P00296942</td>\n",
       "      <td>M</td>\n",
       "      <td>18-25</td>\n",
       "      <td>19</td>\n",
       "      <td>1</td>\n",
       "      <td>Maharashtra</td>\n",
       "      <td>Western</td>\n",
       "      <td>Chemical</td>\n",
       "      <td>Office</td>\n",
       "      <td>4</td>\n",
       "      <td>370.0</td>\n",
       "      <td>NaN</td>\n",
       "      <td>NaN</td>\n",
       "    </tr>\n",
       "    <tr>\n",
       "      <th>11247</th>\n",
       "      <td>1004089</td>\n",
       "      <td>Reichenbach</td>\n",
       "      <td>P00171342</td>\n",
       "      <td>M</td>\n",
       "      <td>26-35</td>\n",
       "      <td>33</td>\n",
       "      <td>0</td>\n",
       "      <td>Haryana</td>\n",
       "      <td>Northern</td>\n",
       "      <td>Healthcare</td>\n",
       "      <td>Veterinary</td>\n",
       "      <td>3</td>\n",
       "      <td>367.0</td>\n",
       "      <td>NaN</td>\n",
       "      <td>NaN</td>\n",
       "    </tr>\n",
       "    <tr>\n",
       "      <th>11248</th>\n",
       "      <td>1001209</td>\n",
       "      <td>Oshin</td>\n",
       "      <td>P00201342</td>\n",
       "      <td>F</td>\n",
       "      <td>36-45</td>\n",
       "      <td>40</td>\n",
       "      <td>0</td>\n",
       "      <td>Madhya Pradesh</td>\n",
       "      <td>Central</td>\n",
       "      <td>Textile</td>\n",
       "      <td>Office</td>\n",
       "      <td>4</td>\n",
       "      <td>213.0</td>\n",
       "      <td>NaN</td>\n",
       "      <td>NaN</td>\n",
       "    </tr>\n",
       "    <tr>\n",
       "      <th>11249</th>\n",
       "      <td>1004023</td>\n",
       "      <td>Noonan</td>\n",
       "      <td>P00059442</td>\n",
       "      <td>M</td>\n",
       "      <td>36-45</td>\n",
       "      <td>37</td>\n",
       "      <td>0</td>\n",
       "      <td>Karnataka</td>\n",
       "      <td>Southern</td>\n",
       "      <td>Agriculture</td>\n",
       "      <td>Office</td>\n",
       "      <td>3</td>\n",
       "      <td>206.0</td>\n",
       "      <td>NaN</td>\n",
       "      <td>NaN</td>\n",
       "    </tr>\n",
       "    <tr>\n",
       "      <th>11250</th>\n",
       "      <td>1002744</td>\n",
       "      <td>Brumley</td>\n",
       "      <td>P00281742</td>\n",
       "      <td>F</td>\n",
       "      <td>18-25</td>\n",
       "      <td>19</td>\n",
       "      <td>0</td>\n",
       "      <td>Maharashtra</td>\n",
       "      <td>Western</td>\n",
       "      <td>Healthcare</td>\n",
       "      <td>Office</td>\n",
       "      <td>3</td>\n",
       "      <td>188.0</td>\n",
       "      <td>NaN</td>\n",
       "      <td>NaN</td>\n",
       "    </tr>\n",
       "  </tbody>\n",
       "</table>\n",
       "</div>"
      ],
      "text/plain": [
       "       User_ID    Cust_name Product_ID Gender Age Group  Age  Marital_Status  \\\n",
       "11246  1000695      Manning  P00296942      M     18-25   19               1   \n",
       "11247  1004089  Reichenbach  P00171342      M     26-35   33               0   \n",
       "11248  1001209        Oshin  P00201342      F     36-45   40               0   \n",
       "11249  1004023       Noonan  P00059442      M     36-45   37               0   \n",
       "11250  1002744      Brumley  P00281742      F     18-25   19               0   \n",
       "\n",
       "                State      Zone   Occupation Product_Category  Orders  Amount  \\\n",
       "11246     Maharashtra   Western     Chemical           Office       4   370.0   \n",
       "11247         Haryana  Northern   Healthcare       Veterinary       3   367.0   \n",
       "11248  Madhya Pradesh   Central      Textile           Office       4   213.0   \n",
       "11249       Karnataka  Southern  Agriculture           Office       3   206.0   \n",
       "11250     Maharashtra   Western   Healthcare           Office       3   188.0   \n",
       "\n",
       "       Status  unnamed1  \n",
       "11246     NaN       NaN  \n",
       "11247     NaN       NaN  \n",
       "11248     NaN       NaN  \n",
       "11249     NaN       NaN  \n",
       "11250     NaN       NaN  "
      ]
     },
     "execution_count": 8,
     "metadata": {},
     "output_type": "execute_result"
    }
   ],
   "source": [
    "df.tail()"
   ]
  },
  {
   "cell_type": "code",
   "execution_count": 12,
   "metadata": {},
   "outputs": [
    {
     "data": {
      "text/plain": [
       "User_ID                 0\n",
       "Cust_name               0\n",
       "Product_ID              0\n",
       "Gender                  0\n",
       "Age Group               0\n",
       "Age                     0\n",
       "Marital_Status          0\n",
       "State                   0\n",
       "Zone                    0\n",
       "Occupation              0\n",
       "Product_Category        0\n",
       "Orders                  0\n",
       "Amount                 12\n",
       "Status              11251\n",
       "unnamed1            11251\n",
       "dtype: int64"
      ]
     },
     "execution_count": 12,
     "metadata": {},
     "output_type": "execute_result"
    }
   ],
   "source": [
    "#Checking the number of null values in each column\n",
    "pd.isnull(df).sum()"
   ]
  },
  {
   "cell_type": "code",
   "execution_count": 22,
   "metadata": {},
   "outputs": [],
   "source": [
    "df.drop(['Status','unnamed1'], axis=1 , inplace= True)"
   ]
  },
  {
   "cell_type": "code",
   "execution_count": 25,
   "metadata": {
    "scrolled": true
   },
   "outputs": [
    {
     "data": {
      "text/plain": [
       "<bound method DataFrame.info of        User_ID    Cust_name Product_ID Gender Age Group  Age  Marital_Status  \\\n",
       "0      1002903    Sanskriti  P00125942      F     26-35   28               0   \n",
       "1      1000732       Kartik  P00110942      F     26-35   35               1   \n",
       "2      1001990        Bindu  P00118542      F     26-35   35               1   \n",
       "3      1001425       Sudevi  P00237842      M      0-17   16               0   \n",
       "4      1000588         Joni  P00057942      M     26-35   28               1   \n",
       "5      1000588         Joni  P00057942      M     26-35   28               1   \n",
       "6      1001132         Balk  P00018042      F     18-25   25               1   \n",
       "7      1002092     Shivangi  P00273442      F       55+   61               0   \n",
       "8      1003224       Kushal  P00205642      M     26-35   35               0   \n",
       "9      1003650        Ginny  P00031142      F     26-35   26               1   \n",
       "10     1003829     Harshita  P00200842      M     26-35   34               0   \n",
       "11     1000214     Kargatis  P00119142      F     18-25   20               0   \n",
       "12     1004035       Elijah  P00080342      F     18-25   20               1   \n",
       "13     1001680      Vasudev  P00324942      M     26-35   26               1   \n",
       "14     1003858         Cano  P00293742      M     46-50   46               1   \n",
       "15     1000813       Lauren  P00289942      F     18-25   24               0   \n",
       "16     1005447          Amy  P00275642      F     46-50   48               1   \n",
       "17     1001193         Mick  P00004842      F     26-35   29               0   \n",
       "18     1001883      Praneet  P00029842      M     51-55   54               1   \n",
       "19     1001883      Praneet  P00029842      M     51-55   54               1   \n",
       "20     1000113        Ellis  P00180642      F     18-25   19               1   \n",
       "21     1000416  Hrisheekesh  P00181842      F     46-50   46               1   \n",
       "22     1005256        Grant  P00101742      F     26-35   30               0   \n",
       "23     1001505     Gilcrest  P00271842      F     51-55   53               0   \n",
       "24     1000900       Skaria  P00317842      M       55+   83               0   \n",
       "25     1005908         Eric  P00282642      F     26-35   33               0   \n",
       "26     1001101       Gibson  P00234742      F     36-45   40               0   \n",
       "27     1004736       Mahima  P00058042      F     18-25   25               1   \n",
       "28     1004037      Etezadi  P00190542      M     51-55   54               1   \n",
       "29     1002340        James  P00119642      F     36-45   39               1   \n",
       "...        ...          ...        ...    ...       ...  ...             ...   \n",
       "11221  1005684         Mick  P00016842      F     18-25   23               0   \n",
       "11222  1002004        Sheri  P00246142      F     46-50   48               0   \n",
       "11223  1001542         Buch  P00113642      F     18-25   20               1   \n",
       "11224  1004378      Kritika  P00274042      F     18-25   18               0   \n",
       "11225  1005971        Rahul  P00307142      F     36-45   42               1   \n",
       "11226  1001032   Geetanjali  P00240842      F     51-55   54               1   \n",
       "11227  1004867      Chandni  P00173042      F     26-35   35               0   \n",
       "11228  1001392       Andrew  P00090942      F     46-50   49               0   \n",
       "11229  1000188        Khloe  P00080342      F       55+   80               0   \n",
       "11230  1005258       Aromal  P00220442      F     36-45   37               1   \n",
       "11231  1003557       Craven  P00046142      F     18-25   20               0   \n",
       "11232  1001360       Darrin  P00112642      F     26-35   27               1   \n",
       "11233  1002106         Luke  P00164342      M     18-25   19               0   \n",
       "11234  1001628      Sandeep  P00226342      F     18-25   21               0   \n",
       "11235  1001248      Calhoun  P00255842      M     36-45   39               0   \n",
       "11236  1002168    Hightower  P00145842      M      0-17   17               1   \n",
       "11237  1000687        Neola  P00181542      M     26-35   29               1   \n",
       "11238  1002718     Abhishek  P00003442      M     26-35   28               0   \n",
       "11239  1000802       Marley  P00245642      F     26-35   33               0   \n",
       "11240  1001425       Sudevi  P00044742      F      0-17   12               0   \n",
       "11241  1003032     Matthias  P00058042      F     26-35   33               0   \n",
       "11242  1004344   Hildebrand  P00185442      F     26-35   27               1   \n",
       "11243  1005446      Sheetal  P00297742      M     51-55   53               0   \n",
       "11244  1005446      Sheetal  P00297742      M     51-55   53               0   \n",
       "11245  1004140    Bertelson  P00057442      F     26-35   31               1   \n",
       "11246  1000695      Manning  P00296942      M     18-25   19               1   \n",
       "11247  1004089  Reichenbach  P00171342      M     26-35   33               0   \n",
       "11248  1001209        Oshin  P00201342      F     36-45   40               0   \n",
       "11249  1004023       Noonan  P00059442      M     36-45   37               0   \n",
       "11250  1002744      Brumley  P00281742      F     18-25   19               0   \n",
       "\n",
       "                  State      Zone       Occupation    Product_Category  \\\n",
       "0           Maharashtra   Western       Healthcare                Auto   \n",
       "1        Andhra Pradesh  Southern             Govt                Auto   \n",
       "2         Uttar Pradesh   Central       Automobile                Auto   \n",
       "3             Karnataka  Southern     Construction                Auto   \n",
       "4               Gujarat   Western  Food Processing                Auto   \n",
       "5      Himachal Pradesh  Northern  Food Processing                Auto   \n",
       "6         Uttar Pradesh   Central           Lawyer                Auto   \n",
       "7           Maharashtra   Western        IT Sector                Auto   \n",
       "8         Uttar Pradesh   Central             Govt                Auto   \n",
       "9        Andhra Pradesh  Southern            Media                Auto   \n",
       "10                Delhi   Central          Banking                Auto   \n",
       "11       Andhra Pradesh  Southern           Retail                Auto   \n",
       "12       Andhra Pradesh  Southern        IT Sector                Auto   \n",
       "13       Andhra Pradesh  Southern       Automobile                Auto   \n",
       "14       Madhya Pradesh   Central      Hospitality                Auto   \n",
       "15       Andhra Pradesh  Southern             Govt                Auto   \n",
       "16       Andhra Pradesh  Southern        IT Sector                Auto   \n",
       "17       Andhra Pradesh  Southern         Aviation                Auto   \n",
       "18        Uttar Pradesh   Central      Hospitality                Auto   \n",
       "19        Uttar Pradesh   Central      Hospitality                Auto   \n",
       "20       Andhra Pradesh  Southern             Govt                Auto   \n",
       "21        Uttar Pradesh   Central          Banking                Auto   \n",
       "22       Andhra Pradesh  Southern        IT Sector                Auto   \n",
       "23        Uttar Pradesh   Central       Automobile                Auto   \n",
       "24            Karnataka  Southern       Automobile                Auto   \n",
       "25       Andhra Pradesh  Southern        IT Sector                Auto   \n",
       "26        Uttar Pradesh   Central          Banking                Auto   \n",
       "27       Andhra Pradesh  Southern          Banking                Auto   \n",
       "28       Andhra Pradesh  Southern             Govt  Hand & Power Tools   \n",
       "29       Andhra Pradesh  Southern         Aviation                Auto   \n",
       "...                 ...       ...              ...                 ...   \n",
       "11221             Delhi   Central      Agriculture              Office   \n",
       "11222             Delhi   Central            Media              Office   \n",
       "11223       Maharashtra   Western         Aviation              Office   \n",
       "11224             Delhi   Central         Aviation              Office   \n",
       "11225             Delhi   Central      Agriculture              Office   \n",
       "11226             Delhi   Central           Lawyer              Office   \n",
       "11227             Delhi   Central       Healthcare              Office   \n",
       "11228     Uttar Pradesh   Central         Aviation              Office   \n",
       "11229             Delhi   Central       Healthcare              Office   \n",
       "11230             Delhi   Central          Banking              Office   \n",
       "11231             Delhi   Central       Healthcare              Office   \n",
       "11232             Delhi   Central         Chemical              Office   \n",
       "11233       Maharashtra   Western      Agriculture              Office   \n",
       "11234             Delhi   Central         Aviation              Office   \n",
       "11235    Andhra Pradesh  Southern       Healthcare              Office   \n",
       "11236  Himachal Pradesh  Northern      Agriculture              Office   \n",
       "11237           Haryana  Northern            Media              Office   \n",
       "11238         Karnataka  Southern        IT Sector              Office   \n",
       "11239             Delhi   Central       Healthcare              Office   \n",
       "11240             Delhi   Central        IT Sector          Veterinary   \n",
       "11241             Delhi   Central      Hospitality              Office   \n",
       "11242             Delhi   Central       Healthcare              Office   \n",
       "11243           Gujarat   Western       Healthcare              Office   \n",
       "11244    Madhya Pradesh   Central       Healthcare              Office   \n",
       "11245             Delhi   Central         Aviation              Office   \n",
       "11246       Maharashtra   Western         Chemical              Office   \n",
       "11247           Haryana  Northern       Healthcare          Veterinary   \n",
       "11248    Madhya Pradesh   Central          Textile              Office   \n",
       "11249         Karnataka  Southern      Agriculture              Office   \n",
       "11250       Maharashtra   Western       Healthcare              Office   \n",
       "\n",
       "       Orders    Amount  \n",
       "0           1  23952.00  \n",
       "1           3  23934.00  \n",
       "2           3  23924.00  \n",
       "3           2  23912.00  \n",
       "4           2  23877.00  \n",
       "5           1  23877.00  \n",
       "6           4  23841.00  \n",
       "7           1       NaN  \n",
       "8           2  23809.00  \n",
       "9           4  23799.99  \n",
       "10          1  23770.00  \n",
       "11          2  23752.00  \n",
       "12          2  23730.00  \n",
       "13          4  23718.00  \n",
       "14          3       NaN  \n",
       "15          2  23664.00  \n",
       "16          3       NaN  \n",
       "17          1  23619.00  \n",
       "18          1  23568.00  \n",
       "19          1  23568.00  \n",
       "20          4  23546.00  \n",
       "21          2  23525.00  \n",
       "22          1  23518.00  \n",
       "23          2  23515.00  \n",
       "24          3  23513.00  \n",
       "25          3  23462.00  \n",
       "26          3  23456.00  \n",
       "27          4  23451.00  \n",
       "28          2  23434.00  \n",
       "29          3  23389.00  \n",
       "...       ...       ...  \n",
       "11221       1    575.00  \n",
       "11222       3    575.00  \n",
       "11223       4    574.00  \n",
       "11224       2    572.00  \n",
       "11225       1    572.00  \n",
       "11226       3    570.00  \n",
       "11227       1    569.00  \n",
       "11228       1    569.00  \n",
       "11229       3    568.00  \n",
       "11230       3    567.00  \n",
       "11231       3    563.00  \n",
       "11232       3    563.00  \n",
       "11233       1    563.00  \n",
       "11234       3    562.00  \n",
       "11235       3    560.00  \n",
       "11236       4    560.00  \n",
       "11237       2    557.00  \n",
       "11238       1    555.00  \n",
       "11239       1    407.00  \n",
       "11240       1    396.00  \n",
       "11241       3    384.00  \n",
       "11242       2    382.00  \n",
       "11243       1    382.00  \n",
       "11244       2    382.00  \n",
       "11245       2    381.00  \n",
       "11246       4    370.00  \n",
       "11247       3    367.00  \n",
       "11248       4    213.00  \n",
       "11249       3    206.00  \n",
       "11250       3    188.00  \n",
       "\n",
       "[11251 rows x 13 columns]>"
      ]
     },
     "execution_count": 25,
     "metadata": {},
     "output_type": "execute_result"
    }
   ],
   "source": [
    "df.info"
   ]
  },
  {
   "cell_type": "code",
   "execution_count": 26,
   "metadata": {},
   "outputs": [
    {
     "data": {
      "text/plain": [
       "User_ID              0\n",
       "Cust_name            0\n",
       "Product_ID           0\n",
       "Gender               0\n",
       "Age Group            0\n",
       "Age                  0\n",
       "Marital_Status       0\n",
       "State                0\n",
       "Zone                 0\n",
       "Occupation           0\n",
       "Product_Category     0\n",
       "Orders               0\n",
       "Amount              12\n",
       "dtype: int64"
      ]
     },
     "execution_count": 26,
     "metadata": {},
     "output_type": "execute_result"
    }
   ],
   "source": [
    "pd.isnull(df).sum()"
   ]
  },
  {
   "cell_type": "code",
   "execution_count": 27,
   "metadata": {},
   "outputs": [],
   "source": [
    "#Dropping the null values in Amount column \n",
    "df.dropna(inplace = True)"
   ]
  },
  {
   "cell_type": "code",
   "execution_count": 29,
   "metadata": {},
   "outputs": [
    {
     "data": {
      "text/plain": [
       "(11239, 13)"
      ]
     },
     "execution_count": 29,
     "metadata": {},
     "output_type": "execute_result"
    }
   ],
   "source": [
    "df.shape\n"
   ]
  },
  {
   "cell_type": "code",
   "execution_count": 32,
   "metadata": {},
   "outputs": [],
   "source": [
    "#Changingthe datatype of amount to integer\n",
    "df['Amount'] = df['Amount'].astype('int64')"
   ]
  },
  {
   "cell_type": "code",
   "execution_count": 33,
   "metadata": {},
   "outputs": [
    {
     "data": {
      "text/plain": [
       "User_ID              int64\n",
       "Cust_name           object\n",
       "Product_ID          object\n",
       "Gender              object\n",
       "Age Group           object\n",
       "Age                  int64\n",
       "Marital_Status       int64\n",
       "State               object\n",
       "Zone                object\n",
       "Occupation          object\n",
       "Product_Category    object\n",
       "Orders               int64\n",
       "Amount               int64\n",
       "dtype: object"
      ]
     },
     "execution_count": 33,
     "metadata": {},
     "output_type": "execute_result"
    }
   ],
   "source": [
    "df.dtypes"
   ]
  },
  {
   "cell_type": "code",
   "execution_count": 34,
   "metadata": {},
   "outputs": [
    {
     "data": {
      "text/plain": [
       "Index(['User_ID', 'Cust_name', 'Product_ID', 'Gender', 'Age Group', 'Age',\n",
       "       'Marital_Status', 'State', 'Zone', 'Occupation', 'Product_Category',\n",
       "       'Orders', 'Amount'],\n",
       "      dtype='object')"
      ]
     },
     "execution_count": 34,
     "metadata": {},
     "output_type": "execute_result"
    }
   ],
   "source": [
    "df.columns"
   ]
  },
  {
   "cell_type": "markdown",
   "metadata": {},
   "source": [
    "# Exploratory Data Analysis\n"
   ]
  },
  {
   "cell_type": "markdown",
   "metadata": {},
   "source": [
    "## Gender "
   ]
  },
  {
   "cell_type": "code",
   "execution_count": 35,
   "metadata": {},
   "outputs": [
    {
     "data": {
      "text/plain": [
       "Index(['User_ID', 'Cust_name', 'Product_ID', 'Gender', 'Age Group', 'Age',\n",
       "       'Marital_Status', 'State', 'Zone', 'Occupation', 'Product_Category',\n",
       "       'Orders', 'Amount'],\n",
       "      dtype='object')"
      ]
     },
     "execution_count": 35,
     "metadata": {},
     "output_type": "execute_result"
    }
   ],
   "source": [
    "df.columns\n"
   ]
  },
  {
   "cell_type": "code",
   "execution_count": 60,
   "metadata": {},
   "outputs": [
    {
     "data": {
      "text/plain": [
       "<matplotlib.axes._subplots.AxesSubplot at 0x249f3a39400>"
      ]
     },
     "execution_count": 60,
     "metadata": {},
     "output_type": "execute_result"
    },
    {
     "data": {
      "image/png": "[encoded data removed]",
      "text/plain": [
       "<Figure size 432x288 with 1 Axes>"
      ]
     },
     "metadata": {
      "needs_background": "light"
     },
     "output_type": "display_data"
    }
   ],
   "source": [
    "ax = sns.countplot(x = 'Gender', data = df)\n",
    "ax"
   ]
  },
  {
   "cell_type": "code",
   "execution_count": 63,
   "metadata": {},
   "outputs": [
    {
     "data": {
      "text/plain": [
       "<matplotlib.axes._subplots.AxesSubplot at 0x249f5f4d7b8>"
      ]
     },
     "execution_count": 63,
     "metadata": {},
     "output_type": "execute_result"
    },
    {
     "data": {
      "image/png": "[encoded data removed]",
      "text/plain": [
       "<Figure size 432x288 with 1 Axes>"
      ]
     },
     "metadata": {
      "needs_background": "light"
     },
     "output_type": "display_data"
    }
   ],
   "source": [
    "#Analysing the purchasing power based on gender\n",
    "sales_by_gender = df.groupby(['Gender'], as_index = False)['Amount'].sum().sort_values(by = 'Amount', ascending = False)\n",
    "\n",
    "sns.barplot(x= 'Gender',y = 'Amount',data = sales_by_gender)"
   ]
  },
  {
   "cell_type": "markdown",
   "metadata": {},
   "source": [
    "**From above graphs we can conclude that, Women have more purchasing power than men and most of the buyers are females.**"
   ]
  },
  {
   "cell_type": "markdown",
   "metadata": {},
   "source": [
    "## Age"
   ]
  },
  {
   "cell_type": "code",
   "execution_count": 50,
   "metadata": {},
   "outputs": [
    {
     "data": {
      "text/plain": [
       "Index(['User_ID', 'Cust_name', 'Product_ID', 'Gender', 'Age Group', 'Age',\n",
       "       'Marital_Status', 'State', 'Zone', 'Occupation', 'Product_Category',\n",
       "       'Orders', 'Amount'],\n",
       "      dtype='object')"
      ]
     },
     "execution_count": 50,
     "metadata": {},
     "output_type": "execute_result"
    }
   ],
   "source": [
    "df.columns"
   ]
  },
  {
   "cell_type": "code",
   "execution_count": 58,
   "metadata": {},
   "outputs": [
    {
     "data": {
      "image/png": "[encoded data removed]",
      "text/plain": [
       "<Figure size 432x288 with 1 Axes>"
      ]
     },
     "metadata": {
      "needs_background": "light"
     },
     "output_type": "display_data"
    }
   ],
   "source": [
    "ax = sns.countplot(data = df , x ='Age Group', hue = 'Gender')"
   ]
  },
  {
   "cell_type": "code",
   "execution_count": 64,
   "metadata": {},
   "outputs": [
    {
     "data": {
      "text/plain": [
       "<matplotlib.axes._subplots.AxesSubplot at 0x249f5f4dac8>"
      ]
     },
     "execution_count": 64,
     "metadata": {},
     "output_type": "execute_result"
    },
    {
     "data": {
      "image/png": "[encoded data removed]",
      "text/plain": [
       "<Figure size 432x288 with 1 Axes>"
      ]
     },
     "metadata": {
      "needs_background": "light"
     },
     "output_type": "display_data"
    }
   ],
   "source": [
    "#Analysing the purchasing power based on Age Group\n",
    "sales_by_age = df.groupby(['Age Group'], as_index = False)['Amount'].sum().sort_values(by = 'Amount', ascending = False)\n",
    "\n",
    "sns.barplot(x= 'Age Group',y = 'Amount',data = sales_by_age)"
   ]
  },
  {
   "cell_type": "markdown",
   "metadata": {},
   "source": [
    "**As we can observe from the graphs above, most of the buyers are female in the age group of 26 - 35**"
   ]
  },
  {
   "cell_type": "markdown",
   "metadata": {},
   "source": [
    "## State "
   ]
  },
  {
   "cell_type": "code",
   "execution_count": 65,
   "metadata": {},
   "outputs": [
    {
     "data": {
      "text/plain": [
       "Index(['User_ID', 'Cust_name', 'Product_ID', 'Gender', 'Age Group', 'Age',\n",
       "       'Marital_Status', 'State', 'Zone', 'Occupation', 'Product_Category',\n",
       "       'Orders', 'Amount'],\n",
       "      dtype='object')"
      ]
     },
     "execution_count": 65,
     "metadata": {},
     "output_type": "execute_result"
    }
   ],
   "source": [
    "df.columns"
   ]
  },
  {
   "cell_type": "code",
   "execution_count": 70,
   "metadata": {},
   "outputs": [
    {
     "data": {
      "text/plain": [
       "<matplotlib.axes._subplots.AxesSubplot at 0x249f5ac6d68>"
      ]
     },
     "execution_count": 70,
     "metadata": {},
     "output_type": "execute_result"
    },
    {
     "data": {
      "image/png": "[encoded data removed]",
      "text/plain": [
       "<Figure size 1440x360 with 1 Axes>"
      ]
     },
     "metadata": {},
     "output_type": "display_data"
    }
   ],
   "source": [
    "#Top 10 states based on orders\n",
    "orders_per_state = df.groupby(['State'], as_index = False)['Orders'].sum().sort_values(by = 'Orders', ascending = False).head(10)\n",
    "\n",
    "sns.set(rc={'figure.figsize':(20,5)})\n",
    "sns.barplot(data = orders_per_state, x = 'State',y= 'Orders')"
   ]
  },
  {
   "cell_type": "code",
   "execution_count": 83,
   "metadata": {},
   "outputs": [
    {
     "data": {
      "text/plain": [
       "<matplotlib.axes._subplots.AxesSubplot at 0x249f6b1b550>"
      ]
     },
     "execution_count": 83,
     "metadata": {},
     "output_type": "execute_result"
    },
    {
     "data": {
      "image/png": "[encoded data removed]",
      "text/plain": [
       "<Figure size 1440x360 with 1 Axes>"
      ]
     },
     "metadata": {},
     "output_type": "display_data"
    }
   ],
   "source": [
    "#Top 10 states based on purchasing power\n",
    "sales_per_state = df.groupby(['State'], as_index = False)['Amount'].sum().sort_values(by = 'Amount', ascending = False).head(10)\n",
    "\n",
    "sns.set(rc={'figure.figsize':(20,5)})\n",
    "sns.barplot(data = sales_per_state, x = 'State',y= 'Amount')"
   ]
  },
  {
   "cell_type": "markdown",
   "metadata": {},
   "source": [
    "**As we can see in the above graphs, the top 7 states remain same, but Kerala doesnt appear in the Top 10 of purchasing power and Bihar doesn't appear in the Top 10 states by order but appears in Top 10 states by Purchasing Power**"
   ]
  },
  {
   "cell_type": "markdown",
   "metadata": {},
   "source": [
    "## Marital Status"
   ]
  },
  {
   "cell_type": "code",
   "execution_count": 72,
   "metadata": {},
   "outputs": [
    {
     "data": {
      "text/plain": [
       "Index(['User_ID', 'Cust_name', 'Product_ID', 'Gender', 'Age Group', 'Age',\n",
       "       'Marital_Status', 'State', 'Zone', 'Occupation', 'Product_Category',\n",
       "       'Orders', 'Amount'],\n",
       "      dtype='object')"
      ]
     },
     "execution_count": 72,
     "metadata": {},
     "output_type": "execute_result"
    }
   ],
   "source": [
    "df.columns"
   ]
  },
  {
   "cell_type": "code",
   "execution_count": 75,
   "metadata": {},
   "outputs": [
    {
     "data": {
      "text/plain": [
       "<matplotlib.axes._subplots.AxesSubplot at 0x249f663b0f0>"
      ]
     },
     "execution_count": 75,
     "metadata": {},
     "output_type": "execute_result"
    },
    {
     "data": {
      "image/png": "[encoded data removed]",
      "text/plain": [
       "<Figure size 360x360 with 1 Axes>"
      ]
     },
     "metadata": {},
     "output_type": "display_data"
    }
   ],
   "source": [
    "ax = sns.countplot(x = 'Marital_Status', data = df)\n",
    "ax"
   ]
  },
  {
   "cell_type": "code",
   "execution_count": 82,
   "metadata": {},
   "outputs": [
    {
     "data": {
      "text/plain": [
       "<matplotlib.axes._subplots.AxesSubplot at 0x249f6b1b8d0>"
      ]
     },
     "execution_count": 82,
     "metadata": {},
     "output_type": "execute_result"
    },
    {
     "data": {
      "image/png": "[encoded data removed]",
      "text/plain": [
       "<Figure size 504x360 with 1 Axes>"
      ]
     },
     "metadata": {},
     "output_type": "display_data"
    }
   ],
   "source": [
    "#Purchasing power based on Marital Status\n",
    "sales_by_marital_status = df.groupby(['Marital_Status','Gender'], as_index = False)['Amount'].sum().sort_values(by = 'Amount', ascending = False).head(10)\n",
    "\n",
    "sns.set(rc={'figure.figsize':(7,5)})\n",
    "sns.barplot(data = sales_by_marital_status, x = 'Marital_Status',y= 'Amount', hue = 'Gender')"
   ]
  },
  {
   "cell_type": "markdown",
   "metadata": {},
   "source": [
    "**From the above grpahs, we can say that most of the buyers are Married(women) and they have the highest purchasing power**"
   ]
  },
  {
   "cell_type": "markdown",
   "metadata": {},
   "source": [
    "## Occupation"
   ]
  },
  {
   "cell_type": "code",
   "execution_count": 78,
   "metadata": {},
   "outputs": [
    {
     "data": {
      "text/plain": [
       "Index(['User_ID', 'Cust_name', 'Product_ID', 'Gender', 'Age Group', 'Age',\n",
       "       'Marital_Status', 'State', 'Zone', 'Occupation', 'Product_Category',\n",
       "       'Orders', 'Amount'],\n",
       "      dtype='object')"
      ]
     },
     "execution_count": 78,
     "metadata": {},
     "output_type": "execute_result"
    }
   ],
   "source": [
    "df.columns"
   ]
  },
  {
   "cell_type": "code",
   "execution_count": 81,
   "metadata": {},
   "outputs": [
    {
     "data": {
      "text/plain": [
       "<matplotlib.axes._subplots.AxesSubplot at 0x249f6a83860>"
      ]
     },
     "execution_count": 81,
     "metadata": {},
     "output_type": "execute_result"
    },
    {
     "data": {
      "image/png": "[encoded data removed]",
      "text/plain": [
       "<Figure size 1440x360 with 1 Axes>"
      ]
     },
     "metadata": {},
     "output_type": "display_data"
    }
   ],
   "source": [
    "sns.set(rc={'figure.figsize':(20,5)})\n",
    "ax = sns.countplot(x = 'Occupation', data = df)\n",
    "ax"
   ]
  },
  {
   "cell_type": "code",
   "execution_count": 84,
   "metadata": {},
   "outputs": [
    {
     "data": {
      "text/plain": [
       "<matplotlib.axes._subplots.AxesSubplot at 0x249f6dafa20>"
      ]
     },
     "execution_count": 84,
     "metadata": {},
     "output_type": "execute_result"
    },
    {
     "data": {
      "image/png": "[encoded data removed]",
      "text/plain": [
       "<Figure size 1440x360 with 1 Axes>"
      ]
     },
     "metadata": {},
     "output_type": "display_data"
    }
   ],
   "source": [
    "#Purchasing power based on occupation\n",
    "sales_by_occupation = df.groupby(['Occupation'], as_index = False)['Amount'].sum().sort_values(by = 'Amount', ascending = False).head(10)\n",
    "\n",
    "sns.set(rc={'figure.figsize':(20,5)})\n",
    "sns.barplot(data = sales_by_occupation, x = 'Occupation',y= 'Amount')"
   ]
  },
  {
   "cell_type": "markdown",
   "metadata": {},
   "source": [
    "**From above grpahs we can observe that most of the buyers are working in IT sector,Healthcare and Aviation**"
   ]
  },
  {
   "cell_type": "markdown",
   "metadata": {},
   "source": [
    "## Product Category "
   ]
  },
  {
   "cell_type": "code",
   "execution_count": 85,
   "metadata": {},
   "outputs": [
    {
     "data": {
      "text/plain": [
       "Index(['User_ID', 'Cust_name', 'Product_ID', 'Gender', 'Age Group', 'Age',\n",
       "       'Marital_Status', 'State', 'Zone', 'Occupation', 'Product_Category',\n",
       "       'Orders', 'Amount'],\n",
       "      dtype='object')"
      ]
     },
     "execution_count": 85,
     "metadata": {},
     "output_type": "execute_result"
    }
   ],
   "source": [
    "df.columns"
   ]
  },
  {
   "cell_type": "code",
   "execution_count": 88,
   "metadata": {},
   "outputs": [
    {
     "data": {
      "text/plain": [
       "<matplotlib.axes._subplots.AxesSubplot at 0x249f7463400>"
      ]
     },
     "execution_count": 88,
     "metadata": {},
     "output_type": "execute_result"
    },
    {
     "data": {
      "image/png": "[encoded data removed]",
      "text/plain": [
       "<Figure size 1800x576 with 1 Axes>"
      ]
     },
     "metadata": {},
     "output_type": "display_data"
    }
   ],
   "source": [
    "sns.set(rc={'figure.figsize':(25,8)})\n",
    "ax = sns.countplot(x = 'Product_Category', data = df)\n",
    "ax"
   ]
  },
  {
   "cell_type": "code",
   "execution_count": 93,
   "metadata": {},
   "outputs": [
    {
     "data": {
      "text/plain": [
       "<matplotlib.axes._subplots.AxesSubplot at 0x249f7909f60>"
      ]
     },
     "execution_count": 93,
     "metadata": {},
     "output_type": "execute_result"
    },
    {
     "data": {
      "image/png": "[encoded data removed]",
      "text/plain": [
       "<Figure size 1440x360 with 1 Axes>"
      ]
     },
     "metadata": {},
     "output_type": "display_data"
    }
   ],
   "source": [
    "#Sales of Top 10 products\n",
    "sales_by_product = df.groupby(['Product_Category'], as_index = False)['Amount'].sum().sort_values(by = 'Amount', ascending = False).head(10)\n",
    "\n",
    "\n",
    "sns.set(rc={'figure.figsize':(20,5)})\n",
    "sns.barplot(data = sales_by_product, x = 'Product_Category',y= 'Amount')"
   ]
  },
  {
   "cell_type": "markdown",
   "metadata": {},
   "source": [
    "**From above graphs,we can say that most of the sold products belong to the category of Food, Clothing & Apparel and Electronics**"
   ]
  },
  {
   "cell_type": "code",
   "execution_count": 97,
   "metadata": {},
   "outputs": [
    {
     "data": {
      "text/plain": [
       "<matplotlib.axes._subplots.AxesSubplot at 0x249f7980780>"
      ]
     },
     "execution_count": 97,
     "metadata": {},
     "output_type": "execute_result"
    },
    {
     "data": {
      "image/png": "[encoded data removed]",
      "text/plain": [
       "<Figure size 1440x360 with 1 Axes>"
      ]
     },
     "metadata": {},
     "output_type": "display_data"
    }
   ],
   "source": [
    "#Top 10 products based on orders\n",
    "\n",
    "sales_by_product = df.groupby(['Product_ID'], as_index = False)['Orders'].sum().sort_values(by = 'Orders', ascending = False).head(10)\n",
    "\n",
    "\n",
    "sns.set(rc={'figure.figsize':(20,5)})\n",
    "sns.barplot(data = sales_by_product, x = 'Product_ID',y= 'Orders')"
   ]
  },
  {
   "cell_type": "markdown",
   "metadata": {},
   "source": [
    "**As we can see the Top 10 products as their product id's are shown**"
   ]
  },
  {
   "cell_type": "markdown",
   "metadata": {},
   "source": [
    "# Conclusion"
   ]
  },
  {
   "cell_type": "markdown",
   "metadata": {},
   "source": [
    "**Married Women in the age group of 26 - 35, living in UP and Maharastra, working in IT and Healthcare Sector are more likely to buy products from Food, clothing and Electronics category**"
   ]
  },
  {
   "cell_type": "markdown",
   "metadata": {},
   "source": [
    "Project link : https://github.com/AryaNsai7/Exploratory-Data-Analysis/tree/main"
   ]
  },
  {
   "cell_type": "markdown",
   "metadata": {},
   "source": [
    "Thank You!!!"
   ]
  }
 ],
 "metadata": {
  "kernelspec": {
   "display_name": "Python 3",
   "language": "python",
   "name": "python3"
  },
  "language_info": {
   "codemirror_mode": {
    "name": "ipython",
    "version": 3
   },
   "file_extension": ".py",
   "mimetype": "text/x-python",
   "name": "python",
   "nbconvert_exporter": "python",
   "pygments_lexer": "ipython3",
   "version": "3.7.3"
  }
 },
 "nbformat": 4,
 "nbformat_minor": 2
}
